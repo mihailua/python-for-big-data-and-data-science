{
  "metadata": {
    "kernelspec": {
      "name": "python",
      "display_name": "Python (Pyodide)",
      "language": "python"
    },
    "language_info": {
      "codemirror_mode": {
        "name": "python",
        "version": 3
      },
      "file_extension": ".py",
      "mimetype": "text/x-python",
      "name": "python",
      "nbconvert_exporter": "python",
      "pygments_lexer": "ipython3",
      "version": "3.8"
    },
    "colab": {
      "provenance": []
    }
  },
  "nbformat_minor": 4,
  "nbformat": 4,
  "cells": [
    {
      "cell_type": "markdown",
      "source": "# I. Змінні та памʼять.",
      "metadata": {
        "id": "p9wwt0LZzNvn"
      }
    },
    {
      "cell_type": "markdown",
      "source": "1. Створити змінні, що посилаються на два цілих числа, що однакові за значенням, де значення належить проміжку від -5 до 256. Перевірте, чи будуть ці змінні рівні тільки за значенням або ж ще будуть посилатися на один і той самий обʼєкт в памʼяті? Наведіть код та дайте текстову відповідь нижче.",
      "metadata": {
        "id": "HTJrrm95xSV9"
      }
    },
    {
      "cell_type": "code",
      "source": "val1 = 234\nval2 = 234\nif id(val1)==id(val2):\n    print('wow')\nval2 = 235\nif id(val2)==id(val1):\n    print('no way')\nval1 = 444\nval2 = 444\nif id(val1)==id(val2):\n    print('double wow')",
      "metadata": {
        "id": "TATni2vzayjG",
        "trusted": true
      },
      "outputs": [
        {
          "name": "stdout",
          "text": "wow\n",
          "output_type": "stream"
        }
      ],
      "execution_count": 1
    },
    {
      "cell_type": "markdown",
      "source": "Судячи із результату інтерпритації - дійсно, обдидві змінні посилаються на одну комірку до поки мають одне значення\nпроте тільки на зазначеному проміжці",
      "metadata": {
        "id": "zfRG_o3WbRdg"
      }
    },
    {
      "cell_type": "markdown",
      "source": "2. За допомогою якої функції можна перевірити належність змінної до вказаного типу даних (напр. чи змінна True посилається на значення булевого та цілочисленого типу)?",
      "metadata": {
        "id": "ISORzt6M3vAt"
      }
    },
    {
      "cell_type": "code",
      "source": "val1 = True\nval2 = 1\nif (type(val1)!=type(val2)) and (id(val1) != id(val2)):\n    print('not in python')",
      "metadata": {
        "id": "9vL9CFaMbfyo",
        "trusted": true
      },
      "outputs": [
        {
          "name": "stdout",
          "text": "not in python\n",
          "output_type": "stream"
        }
      ],
      "execution_count": 2
    },
    {
      "cell_type": "markdown",
      "source": "# II. Цілі числа та числа з рухомою комою",
      "metadata": {
        "id": "tRxugKAxwYLw"
      }
    },
    {
      "cell_type": "markdown",
      "source": "3. Створити дві змінні, що посилаються на будь-які ціле число та число з рухомою комою та продемонструвати такі арифметичні операції: додавання, віднімання, ділення, множення, ділення без залишку, ділення по модулю, приведення до ступеню. Всі результати операцій вивести на екран.",
      "metadata": {
        "id": "NLHkgd5Gybc8"
      }
    },
    {
      "cell_type": "code",
      "source": "val1 = 1\nval2 = 2.0\nprint(val1+val2, val1-val2, val1/val2, val1*val2, val1//val2, val1%val2, val2**val1 )",
      "metadata": {
        "id": "nb8u_3pjb2cA",
        "trusted": true
      },
      "outputs": [
        {
          "name": "stdout",
          "text": "3.0 -1.0 0.5 2.0 0.0 1.0 2.0\n",
          "output_type": "stream"
        }
      ],
      "execution_count": 3
    },
    {
      "cell_type": "markdown",
      "source": "4. Використовуючи змінні з вправи 3, продемонструйте механізм явного перетворення типів, де числа з рухомою комою перетворюються на цілі числа. Також визначте змінну, що посилається на значення булевого типу і спробуйте явно привести її до цілого числа.",
      "metadata": {
        "id": "1kBClKgPzZnC"
      }
    },
    {
      "cell_type": "code",
      "source": "val1 = 2.3\nval1 = int(val1)\nprint(val1, type(val1))\nval2 = False\nprint(int(val2))\nprint(int(True))",
      "metadata": {
        "id": "TbqJbkeUcKsD",
        "trusted": true
      },
      "outputs": [
        {
          "name": "stdout",
          "text": "2 <class 'int'>\n0\n1\n",
          "output_type": "stream"
        }
      ],
      "execution_count": 23
    },
    {
      "cell_type": "markdown",
      "source": "# IІІ. Рядки (String).",
      "metadata": {
        "id": "EVJ7AflwxrZi"
      }
    },
    {
      "cell_type": "markdown",
      "source": "5. Створити пустий рядок двома різними способами.",
      "metadata": {
        "id": "_s5ECzz9zE61"
      }
    },
    {
      "cell_type": "code",
      "source": "line = ''\nline = str()",
      "metadata": {
        "id": "fkZJHu9Scvc-",
        "trusted": true
      },
      "outputs": [],
      "execution_count": 5
    },
    {
      "cell_type": "markdown",
      "source": "6. Створити рядок з апострофом. Зробити його сирим. Вивести обидва рядка на екран.",
      "metadata": {
        "id": "4Bdn9J3MzLf_"
      }
    },
    {
      "cell_type": "code",
      "source": "str = \"'\"\nstr1 = repr(str)\nprint(str)\nprint(str1)",
      "metadata": {
        "id": "ivji_hsmc0GH",
        "trusted": true
      },
      "outputs": [
        {
          "name": "stdout",
          "text": "'\n\"'\"\n",
          "output_type": "stream"
        }
      ],
      "execution_count": 6
    },
    {
      "cell_type": "markdown",
      "source": "7. Створити змінну, що буде посилатися на Ваше прізвище латинкою. Створити форматований рядок, який буде мати вигляд \"My surname is ______\", де на місці нижніх підкреслень буде Ваше прізвище зі змінної.",
      "metadata": {
        "id": "bg_d8wM4z8dS"
      }
    },
    {
      "cell_type": "code",
      "source": "surname = \"Vakoliuk\"\nsent = \"My last name is {}\".format(surname)\nprint(sent)",
      "metadata": {
        "id": "kuxFgpWndACq",
        "trusted": true
      },
      "outputs": [
        {
          "name": "stdout",
          "text": "My last name is Vakoliuk\n",
          "output_type": "stream"
        }
      ],
      "execution_count": 7
    },
    {
      "cell_type": "markdown",
      "source": "8. Маючи рядок \"My dog is crazy.\" перетворити його на список [\"my\", \"dog\", \"is\", \"crazy\"]",
      "metadata": {
        "id": "1Nc6RqvQ0hxU"
      }
    },
    {
      "cell_type": "code",
      "source": "line = \"My dog is crazy\"\nlst = line.split(' ')\nprint(lst)",
      "metadata": {
        "id": "w1Ya4RqedUhw",
        "trusted": true
      },
      "outputs": [
        {
          "name": "stdout",
          "text": "['My', 'dog', 'is', 'crazy']\n",
          "output_type": "stream"
        }
      ],
      "execution_count": 8
    },
    {
      "cell_type": "markdown",
      "source": "# IV. Робота зі списками.",
      "metadata": {
        "id": "GYVqN9uP1D4n"
      }
    },
    {
      "cell_type": "markdown",
      "source": "9. Створити список двома різними за синтаксисом способами. За допомогою вбудованої функції обчисліть довжину одного з них.",
      "metadata": {
        "id": "7-DeDunw2sO-"
      }
    },
    {
      "cell_type": "code",
      "source": "list1 = []\nlist2 = list()\nprint(len(list1), len(list2))",
      "metadata": {
        "id": "zxg06Uuxdyoh",
        "trusted": true
      },
      "outputs": [],
      "execution_count": null
    },
    {
      "cell_type": "markdown",
      "source": "10. Створіть два списка та за допомогою спеціального методу додайте другий з них в якості останнього елемента першого.",
      "metadata": {
        "id": "8vmGUTjL22gI"
      }
    },
    {
      "cell_type": "code",
      "source": "list1 = list()\nlist2 = list()\nlist1.append(list2)\nprint(list1)",
      "metadata": {
        "id": "uHtjWYw7d7hm",
        "trusted": true
      },
      "outputs": [],
      "execution_count": null
    },
    {
      "cell_type": "markdown",
      "source": "11. Створіть список, де елементами цього списку також є списки. Отримай перший елемент з останнього /рядка/ та виведи значення на екран. //не дуже зрозумів про рядок - може списка",
      "metadata": {
        "id": "JC3BkD-67_--"
      }
    },
    {
      "cell_type": "code",
      "source": "list1 = []\nfor i in range(1,4):\n    list2 = []\n    for j in range(2*i+1,2*i+3):\n        list2.append(j)\n    list1.append(list2)\n    print(list2)\nprint(list1[-1][0])",
      "metadata": {
        "id": "Kz2jZHsGeLlz",
        "trusted": true
      },
      "outputs": [],
      "execution_count": null
    },
    {
      "cell_type": "markdown",
      "source": "12. Створіть список з десяти елементів різного типу. Отримайте всі елементи, окрім двох перших та двох останніх та збережіть їх в новій змінній.",
      "metadata": {
        "id": "JA47PKTv8zFK"
      }
    },
    {
      "cell_type": "code",
      "source": "list1 = [2.0, 3, 'no', True, 2+3j, ['yes','no'], {'yes':'good', 'no':'bad'}, (1,2,3), range(3), {'hi', 'bye'}]\nlist2 = list1[2:-2]\nprint(list2)",
      "metadata": {
        "id": "_rHdUR-ueP4-",
        "trusted": true
      },
      "outputs": [],
      "execution_count": null
    },
    {
      "cell_type": "markdown",
      "source": "# V. Робота з кортежами.",
      "metadata": {
        "id": "pCjR1dJb1Qbi"
      }
    },
    {
      "cell_type": "markdown",
      "source": "14. Створити кортеж з один елементом.",
      "metadata": {
        "id": "fAZCxAX06R_k"
      }
    },
    {
      "cell_type": "code",
      "source": "mytup = 1,\nmylist = [2,]\n#mytup[0]=mylist[0] - 'tuple' object does not support item assignment\nmylist[0]=mytup[0] # - звичайна операція на лістом\ndict = {mytup:1, mylist:2}",
      "metadata": {
        "id": "H7d82WkQev3e",
        "trusted": true
      },
      "outputs": [],
      "execution_count": null
    },
    {
      "cell_type": "markdown",
      "source": "15. Порівняйте список та кортеж. Назвіть схожості та відмінності, випадки використання.",
      "metadata": {
        "id": "8LCtYcmI6w1M"
      }
    },
    {
      "cell_type": "markdown",
      "source": "Tuple - кортеж - незмінний масив, ані елементи, ні кількість елементів ні порядок, на відміну від List - списку. Через це перший може бути ключем для словника, другий - ні.",
      "metadata": {
        "id": "fUsN1Hnue0C6"
      }
    },
    {
      "cell_type": "markdown",
      "source": "16. Створіть кортеж з 11ти елементів чисел з рухомою комою та отримайте кожен парний за індексом елемент в зворотньому порядку. Наприклад, маючи (1.2, 2.3, 3.3, 4.3, 5.3, 6.3, 7.3, 8.3, 9.3, 0.3), отримати (0.3, 8.3, 6.3, 4.3, 2.3). Результат збережіть в нову змінну та виведіть на екран.",
      "metadata": {
        "id": "m0xrwFijAmDD"
      }
    },
    {
      "cell_type": "code",
      "source": "mytup = (3.1, 1.4, 1.5, -1.4 , 6.6, 3.5, 5.6, -6.8, 4.3, 5.3, 6.3,)\nnew = mytup[::-2]\nprint(new)",
      "metadata": {
        "id": "p-5DAH6XfAGA",
        "trusted": true
      },
      "outputs": [],
      "execution_count": null
    },
    {
      "cell_type": "markdown",
      "source": "# VI. Множини (Set).",
      "metadata": {
        "id": "rW_I9dt3x6cW"
      }
    },
    {
      "cell_type": "markdown",
      "source": "17. Створити множину без елементів. Після цого за допомогою методу додайте кілька різних елементів до множини. Чи множини є змінним типом даних?",
      "metadata": {
        "id": "zNjRLHLw1Bgg"
      }
    },
    {
      "cell_type": "code",
      "source": "new_set = set()\nnew_set.add(1)\nnew_set.add(2)",
      "metadata": {
        "id": "KOv7zc2Kfo4N",
        "trusted": true
      },
      "outputs": [
        {
          "name": "stdout",
          "text": "{1, 2}\n",
          "output_type": "stream"
        }
      ],
      "execution_count": 11
    },
    {
      "cell_type": "markdown",
      "source": "Jupyter в мене не інтерпретує код myset = set(). якщо чесно розбиратися ресурсу не маю - йому так заманулось. \nПроте множина - незмінний тип даних, також не підтримує повторення елементів.",
      "metadata": {
        "id": "vxS6dVYiftZQ"
      }
    },
    {
      "cell_type": "markdown",
      "source": "18. Створити множину, маючи список my_list = [1, 1, 2, 67, 67, 8, 9]. Пояснити, чому \"зникли\" деякі елементи.",
      "metadata": {
        "id": "gHpT0Zw_1HEF"
      }
    },
    {
      "cell_type": "code",
      "source": "my_list = [1, 1, 2, 67, 67, 8, 9]\nnewset = set(my_list)\nprint(newset)",
      "metadata": {
        "id": "qCN4uvJ_fxmu",
        "trusted": true
      },
      "outputs": [
        {
          "name": "stdout",
          "text": "{1, 2, 67, 8, 9}\n",
          "output_type": "stream"
        }
      ],
      "execution_count": 12
    },
    {
      "cell_type": "markdown",
      "source": "множина не підтримує повторення елементів",
      "metadata": {
        "id": "tFNc1e20fyny"
      }
    },
    {
      "cell_type": "markdown",
      "source": "19. Створіть дві множини. Продемонстуйте над ними операції: обʼєднання, різниці, пересічі та симетричної різниці. Використовуйте методи, що не змінюють множини, а створюють нові.",
      "metadata": {
        "id": "SRMkGizS1UwY"
      }
    },
    {
      "cell_type": "code",
      "source": "setA={1,3,5,2}\nsetB={2,4,5,6,8}\nprint(setA.union(setB), setA.difference(setB), setA.intersection(setB), setA.symmetric_difference(setB))",
      "metadata": {
        "id": "h0T-VuDnf3Ri",
        "trusted": true
      },
      "outputs": [
        {
          "name": "stdout",
          "text": "{1, 2, 3, 4, 5, 6, 8} {1, 3} {2, 5} {1, 3, 4, 6, 8}\n",
          "output_type": "stream"
        }
      ],
      "execution_count": 18
    },
    {
      "cell_type": "markdown",
      "source": "# VII. Словники (Dictionary).",
      "metadata": {
        "id": "kWc8gkzTx7Ea"
      }
    },
    {
      "cell_type": "markdown",
      "source": "20. Створіть пустий словник. До нього додайте чотири пари елементів такі, щоб їхні ключі були різних типів. Чи може список бути ключем? Чому?",
      "metadata": {
        "id": "i5FLwj-B2ybQ"
      }
    },
    {
      "cell_type": "code",
      "source": "newdict = {}\nnewdict[(1,2)]='Hi'\nnewdict[3.3]='I'\nnewdict[True]='Like'\nnewdict[':)']='You'",
      "metadata": {
        "id": "hxgv3BzrgLAV",
        "trusted": true
      },
      "outputs": [],
      "execution_count": 20
    },
    {
      "cell_type": "markdown",
      "source": "список не може бути ключем, бо є змінним, його елементи можна змінити, та кількість елементів також.",
      "metadata": {
        "id": "zwa7UVN-gR3m"
      }
    },
    {
      "cell_type": "markdown",
      "source": "21. Створіть словник, де значенням в одній з пар теж буде словник, який теж має вкладений словник. Виведіть на екран значення, що міститься в словнику, що знаходиться на найнижчому рівні ієрархії вкладеності (найбільш внутрішній).",
      "metadata": {
        "id": "WM_pMlJsgoNf"
      }
    },
    {
      "cell_type": "code",
      "source": "dict1={1:{2:{3:'Hi'}}}\ndict1[1][2][3]",
      "metadata": {
        "id": "60dlP7IHhAy4",
        "trusted": true
      },
      "outputs": [
        {
          "execution_count": 21,
          "output_type": "execute_result",
          "data": {
            "text/plain": "'Hi'"
          },
          "metadata": {}
        }
      ],
      "execution_count": 21
    },
    {
      "cell_type": "markdown",
      "source": "# Вітаю! Ви велика(ий) молодець, що впоралась(вся). Похваліть себе та побалуйте чимось приємним. Я Вами пишаюся.",
      "metadata": {
        "id": "xOZP0hkx6cCr"
      }
    },
    {
      "cell_type": "markdown",
      "source": "дякую",
      "metadata": {}
    }
  ]
}