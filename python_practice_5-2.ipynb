{
 "cells": [
  {
   "cell_type": "markdown",
   "metadata": {
    "id": "5qV_sehzFCTp"
   },
   "source": [
    "# I. OOP"
   ]
  },
  {
   "cell_type": "markdown",
   "metadata": {
    "id": "tx_U_hOALyfg"
   },
   "source": [
    "1. (6б). Створіть клас Animal, додайте три атрибути, один з яких має значення за замовчуванням та два методи на свій розсуд."
   ]
  },
  {
   "cell_type": "code",
   "execution_count": 2,
   "metadata": {
    "id": "-Vf895KaL88N"
   },
   "outputs": [],
   "source": [
    "class Animal:\n",
    "    def __init__(self, sound, age, ifAlive= True):\n",
    "        self.sound = sound\n",
    "        self.age = age\n",
    "        self.ifAlive = ifAlive\n",
    "    def makeSound(self):\n",
    "        try:\n",
    "            print(self.sound)\n",
    "        except Exception:\n",
    "            print('Doesnt make a sound')\n",
    "    def getAge(self):\n",
    "        print(self.age)"
   ]
  },
  {
   "cell_type": "markdown",
   "metadata": {
    "id": "X_UlOMB0L93w"
   },
   "source": [
    "2. (2б). Створіть два обʼєкти цього класу, де один з обʼєктів створюється із дефолтним значенням атрибуту. На одному обʼєкті отримайте значення його атрибуту, а на іншому викличте один з його методів."
   ]
  },
  {
   "cell_type": "code",
   "execution_count": 3,
   "metadata": {
    "id": "7gBu0ESOMCpG"
   },
   "outputs": [
    {
     "name": "stdout",
     "output_type": "stream",
     "text": [
      "True\n",
      "Meow\n"
     ]
    }
   ],
   "source": [
    "dog = Animal('Bark', 7)\n",
    "cat = Animal('Meow', 6, False)\n",
    "print(dog.ifAlive)\n",
    "cat.makeSound()"
   ]
  },
  {
   "cell_type": "markdown",
   "metadata": {
    "id": "HoqSCZt1MHn5"
   },
   "source": [
    "3. (5б). Створіть клас, де атрибути мають різні рівні доступу. Спробуйте отримати їхні значення та опишіть результати."
   ]
  },
  {
   "cell_type": "code",
   "execution_count": 5,
   "metadata": {
    "id": "r9b3vJxBMSPV"
   },
   "outputs": [
    {
     "name": "stdout",
     "output_type": "stream",
     "text": [
      "Tyler\n",
      "Adam\n"
     ]
    },
    {
     "ename": "AttributeError",
     "evalue": "'Person' object has no attribute '__surname'",
     "output_type": "error",
     "traceback": [
      "\u001b[0;31m---------------------------------------------------------------------------\u001b[0m",
      "\u001b[0;31mAttributeError\u001b[0m                            Traceback (most recent call last)",
      "Cell \u001b[0;32mIn[5], line 9\u001b[0m\n\u001b[1;32m      7\u001b[0m \u001b[38;5;28mprint\u001b[39m(Mike\u001b[38;5;241m.\u001b[39mname)\n\u001b[1;32m      8\u001b[0m \u001b[38;5;28mprint\u001b[39m(Mike\u001b[38;5;241m.\u001b[39m_midname) \u001b[38;5;66;03m#private to community not private to python\u001b[39;00m\n\u001b[0;32m----> 9\u001b[0m \u001b[38;5;28mprint\u001b[39m(\u001b[43mMike\u001b[49m\u001b[38;5;241;43m.\u001b[39;49m\u001b[43m__surname\u001b[49m) \u001b[38;5;66;03m#protected \u001b[39;00m\n",
      "\u001b[0;31mAttributeError\u001b[0m: 'Person' object has no attribute '__surname'"
     ]
    }
   ],
   "source": [
    "class Person:\n",
    "    def __init__(self, name, _midname, __surname):\n",
    "        self.name = name\n",
    "        self._midname = _midname\n",
    "        self.__surname = __surname\n",
    "Mike = Person('Tyler', 'Adam', 'Durden')\n",
    "print(Mike.name)\n",
    "print(Mike._midname) #private to community not private to python\n",
    "print(Mike.__surname) #protected "
   ]
  },
  {
   "cell_type": "markdown",
   "metadata": {
    "id": "5op2m2vgMSkZ"
   },
   "source": [
    "4. (7б). Як ви розумієте термін self? Для чого використовується метод __init __?"
   ]
  },
  {
   "cell_type": "markdown",
   "metadata": {
    "id": "DyiPqNRvMasx"
   },
   "source": [
    "self - вказівник на окремий екземпляр класу. вік ми змюнюємо на в класі Люди, а в екземплярі Максим. \n",
    "у c++ до прикладу, методи мають таку ж структуру, але приховано. якщо у с++ метод приймає 2 видимі параметри а ви відправите 3, компілятор скаже, що ви відправили 4 параметри замість 3.\n",
    "\n",
    "__init__ - конструктор. щоб задати початкові дані новому екземпляру класа."
   ]
  },
  {
   "cell_type": "markdown",
   "metadata": {
    "id": "-6X8EGfjMd2y"
   },
   "source": [
    "5. (9б). Створіть клас Фігура без атрибутів, з методом get_area для отримання площі фігури, що повертає 0 та __add __, який приймає self та other в якості аргументів, а повертає суму площин фігур self та other."
   ]
  },
  {
   "cell_type": "code",
   "execution_count": 8,
   "metadata": {
    "id": "4rvO_wYUMaEr"
   },
   "outputs": [],
   "source": [
    "class Shape:\n",
    "    def __add__(self, other):\n",
    "        return self.get_area() + other.get_area()\n",
    "    def get_area(self):\n",
    "        return 0, __add__()"
   ]
  },
  {
   "cell_type": "markdown",
   "metadata": {
    "id": "SFcKnnv5Mo_z"
   },
   "source": [
    "6. (11б). Створіть 2 дочірніх класи від Фігури: Трикутник та Коло, які мають атрибути, необхідні для розрахунку площин. Визначте метод get_area в кожному з них так, щоби вони розраховували площу в залежності від формули для кожного типу фігури. Створіть обʼєкт класу Трикутник та обʼєкт класу Коло. Виконайте операцію суми за допомогою оператора + між ними."
   ]
  },
  {
   "cell_type": "code",
   "execution_count": 12,
   "metadata": {
    "id": "H3GVNr69Muf3"
   },
   "outputs": [
    {
     "data": {
      "text/plain": [
       "13.528245836551855"
      ]
     },
     "execution_count": 12,
     "metadata": {},
     "output_type": "execute_result"
    }
   ],
   "source": [
    "class Circle(Shape):\n",
    "    def __init__(self, radius):\n",
    "        self.radius = radius\n",
    "    def get_area(self):\n",
    "        return 3.14*(self.radius**2)\n",
    "class Triangle(Shape):\n",
    "    def __init__(self, a, b, c):\n",
    "        self.a=a\n",
    "        self.b=b\n",
    "        self.c=c\n",
    "    def get_area(self):\n",
    "        p = (self.a+self.b+self.c)/2\n",
    "        return (p*(p-self.a)*(p-self.b)*(p-self.c))**0.5\n",
    "circ = Circle(2)\n",
    "tri = Triangle(1,2,2)\n",
    "circ+tri"
   ]
  },
  {
   "cell_type": "markdown",
   "metadata": {
    "id": "HCvR206YMvLK"
   },
   "source": [
    "7. (3б). Продемонструйте різницю між isinstance та issubclass."
   ]
  },
  {
   "cell_type": "code",
   "execution_count": 16,
   "metadata": {
    "id": "L_V1bBvDM0GN"
   },
   "outputs": [
    {
     "name": "stdout",
     "output_type": "stream",
     "text": [
      "False\n",
      "True\n",
      "True\n",
      "True\n"
     ]
    },
    {
     "ename": "TypeError",
     "evalue": "issubclass() arg 1 must be a class",
     "output_type": "error",
     "traceback": [
      "\u001b[0;31m---------------------------------------------------------------------------\u001b[0m",
      "\u001b[0;31mTypeError\u001b[0m                                 Traceback (most recent call last)",
      "Cell \u001b[0;32mIn[16], line 5\u001b[0m\n\u001b[1;32m      3\u001b[0m \u001b[38;5;28mprint\u001b[39m(\u001b[38;5;28misinstance\u001b[39m(tri, Triangle))\n\u001b[1;32m      4\u001b[0m \u001b[38;5;28mprint\u001b[39m(\u001b[38;5;28misinstance\u001b[39m(tri, Shape))\n\u001b[0;32m----> 5\u001b[0m \u001b[38;5;28mprint\u001b[39m(\u001b[38;5;28;43missubclass\u001b[39;49m\u001b[43m(\u001b[49m\u001b[43mtri\u001b[49m\u001b[43m,\u001b[49m\u001b[43m \u001b[49m\u001b[43mTriangle\u001b[49m\u001b[43m)\u001b[49m)\n",
      "\u001b[0;31mTypeError\u001b[0m: issubclass() arg 1 must be a class"
     ]
    }
   ],
   "source": [
    "print(isinstance(Circle, Shape))\n",
    "print(issubclass(Circle, Shape))\n",
    "print(isinstance(tri, Triangle))\n",
    "print(isinstance(tri, Shape))\n",
    "print(issubclass(tri, Triangle))\n"
   ]
  },
  {
   "cell_type": "markdown",
   "metadata": {},
   "source": [
    "isinstance визначає наслідування роду підклас-клас, об'єкт-клас, тощо\n",
    "issubclass визначає наслідування підклас-клас."
   ]
  },
  {
   "cell_type": "markdown",
   "metadata": {
    "id": "jjsaBZ-iM0Qq"
   },
   "source": [
    "8. (13б). Створіть клас BankAccount з приватними атрибутами balance та account_number. Реалізуйте методи поповнення та зняття коштів, забезпечивши належну інкапсуляцію. Підказка: використовуйте декоратори property та setter."
   ]
  },
  {
   "cell_type": "code",
   "execution_count": 33,
   "metadata": {
    "id": "xCvZ7lh8M7YA"
   },
   "outputs": [
    {
     "name": "stdout",
     "output_type": "stream",
     "text": [
      "11232\n",
      "25\n",
      "New balance success\n",
      "Incorrect query\n"
     ]
    }
   ],
   "source": [
    "import numbers\n",
    "class BankAccount:\n",
    "    min_limit = -1000\n",
    "    max_limit = 20000\n",
    "    def __init__(self, __account_number, __balance = 0):\n",
    "        self.__account_number = __account_number\n",
    "        self.__balance = __balance\n",
    "    \n",
    "    @property\n",
    "    def accnum(self):\n",
    "        return self.__account_number\n",
    "    \n",
    "    @property\n",
    "    def balance(self):\n",
    "        return self.__balance\n",
    "    @balance.setter\n",
    "    def balance(self, new_balance):\n",
    "        if isinstance(new_balance, numbers.Real) and new_balance > self.min_limit and new_balance < self.max_limit:\n",
    "            self.__balance = new_balance \n",
    "            print(\"New balance success\")\n",
    "        else :\n",
    "            print(\"Incorrect query\")\n",
    "   \n",
    "Mine = BankAccount(11232, 25)\n",
    "print(Mine.accnum)\n",
    "print(Mine.balance)\n",
    "Mine.balance = -255.5\n",
    "Mine.balance = 'Fd'"
   ]
  },
  {
   "cell_type": "markdown",
   "metadata": {
    "id": "tIzL2SJTM8ft"
   },
   "source": [
    "9. (11б). Створіть клас Library, який містить список об'єктів типу Book. Реалізуйте методи для додавання книги, видалення книги та відображення списку книг."
   ]
  },
  {
   "cell_type": "code",
   "execution_count": 36,
   "metadata": {
    "id": "HWxfJKLtNAUZ"
   },
   "outputs": [
    {
     "name": "stdout",
     "output_type": "stream",
     "text": [
      "New Library\n",
      "New book in the Library\n",
      "['Atomic Habits']\n",
      "Atomic Habits removed from the Library\n"
     ]
    }
   ],
   "source": [
    "class Library:\n",
    "    __books = list()\n",
    "    def __init__(self):\n",
    "        print(\"New Library\")\n",
    "    def book_list(self):\n",
    "        print(self.__books)\n",
    "    def newbook(self, name):\n",
    "        if isinstance(name, str):\n",
    "            self.__books.append(name)\n",
    "            print(\"New book in the Library\")\n",
    "        else:\n",
    "            print('Incorrect book name')\n",
    "    def remove_book(self, name):\n",
    "        if name in self.__books:\n",
    "            self.__books.remove(name)\n",
    "            print(name+\" removed from the Library\")\n",
    "        else:\n",
    "            print('No such book to remove')\n",
    "            \n",
    "NewLib = Library()\n",
    "NewLib.newbook(\"Atomic Habits\")\n",
    "NewLib.book_list()\n",
    "NewLib.remove_book('Atomic Habits')"
   ]
  },
  {
   "cell_type": "markdown",
   "metadata": {
    "id": "lmV8pAwwNIqu"
   },
   "source": [
    "10. (13б). Створіть клас Person з атрибутами name та age. Створіть ще один клас Employee з такими атрибутами, як department та salary. Створіть клас Manager, який успадковує обидва класи Person та Employee. Продемонструйте використання множинної спадковості, створивши обʼєкт класу Manager та отримавши mro для цього класу."
   ]
  },
  {
   "cell_type": "code",
   "execution_count": 37,
   "metadata": {
    "id": "R49grKlWNPeN"
   },
   "outputs": [
    {
     "data": {
      "text/plain": [
       "[__main__.Manager, __main__.Person, __main__.Employee, object]"
      ]
     },
     "execution_count": 37,
     "metadata": {},
     "output_type": "execute_result"
    }
   ],
   "source": [
    "class Person:\n",
    "    def __init__(self, name, age):\n",
    "        self.name = name\n",
    "        self.age = age\n",
    "class Employee:\n",
    "    def __init__(self, department, salary):\n",
    "        self.department = department\n",
    "        self.salary = salary\n",
    "class Manager(Person, Employee):\n",
    "    def __init__(self, office):\n",
    "        self.office = office\n",
    "\n",
    "Me = Manager('Microsoft')\n",
    "Manager.mro()"
   ]
  },
  {
   "cell_type": "markdown",
   "metadata": {
    "id": "dIJyUiNBFG8G"
   },
   "source": [
    "# II. Iterator"
   ]
  },
  {
   "cell_type": "markdown",
   "metadata": {
    "id": "13vsm0NyKIzL"
   },
   "source": [
    "11. (4б). Визначте рядок(str) з 4ма різними за значенням символами. Створіть ітератор на основі цього рядка. Викличте 5 разів функцію next на ітераторі, 4ри перших з них огорніть у ф-цію print()."
   ]
  },
  {
   "cell_type": "code",
   "execution_count": 38,
   "metadata": {
    "id": "81ntabAkKuz-"
   },
   "outputs": [
    {
     "name": "stdout",
     "output_type": "stream",
     "text": [
      "#\n",
      "G\n",
      "3\n",
      "m\n"
     ]
    },
    {
     "ename": "StopIteration",
     "evalue": "",
     "output_type": "error",
     "traceback": [
      "\u001b[0;31m---------------------------------------------------------------------------\u001b[0m",
      "\u001b[0;31mStopIteration\u001b[0m                             Traceback (most recent call last)",
      "Cell \u001b[0;32mIn[38], line 7\u001b[0m\n\u001b[1;32m      5\u001b[0m \u001b[38;5;28mprint\u001b[39m(\u001b[38;5;28mnext\u001b[39m(myiter))\n\u001b[1;32m      6\u001b[0m \u001b[38;5;28mprint\u001b[39m(\u001b[38;5;28mnext\u001b[39m(myiter))\n\u001b[0;32m----> 7\u001b[0m \u001b[38;5;28;43mnext\u001b[39;49m\u001b[43m(\u001b[49m\u001b[43mmyiter\u001b[49m\u001b[43m)\u001b[49m\n",
      "\u001b[0;31mStopIteration\u001b[0m: "
     ]
    }
   ],
   "source": [
    "string = '#G3m'\n",
    "myiter = iter(string)\n",
    "print(next(myiter))\n",
    "print(next(myiter))\n",
    "print(next(myiter))\n",
    "print(next(myiter))\n",
    "next(myiter)"
   ]
  },
  {
   "cell_type": "markdown",
   "metadata": {
    "id": "aekWHGXOLRsO"
   },
   "source": [
    "А що якщо викликати цю ж функцію на рядку?"
   ]
  },
  {
   "cell_type": "code",
   "execution_count": 39,
   "metadata": {
    "id": "mxATGsErLV1i"
   },
   "outputs": [
    {
     "ename": "TypeError",
     "evalue": "'str' object is not an iterator",
     "output_type": "error",
     "traceback": [
      "\u001b[0;31m---------------------------------------------------------------------------\u001b[0m",
      "\u001b[0;31mTypeError\u001b[0m                                 Traceback (most recent call last)",
      "Cell \u001b[0;32mIn[39], line 1\u001b[0m\n\u001b[0;32m----> 1\u001b[0m \u001b[38;5;28;43mnext\u001b[39;49m\u001b[43m(\u001b[49m\u001b[43mstring\u001b[49m\u001b[43m)\u001b[49m\n",
      "\u001b[0;31mTypeError\u001b[0m: 'str' object is not an iterator"
     ]
    }
   ],
   "source": [
    "next(string)"
   ]
  },
  {
   "cell_type": "markdown",
   "metadata": {
    "id": "XwtMEopwJ4pH"
   },
   "source": [
    " 12. (5б). Опишіть своїми словами в одному реченні, як ви розумієте різницю між ітерабельними обʼєктами та ітераторами (можна на прикладі)."
   ]
  },
  {
   "cell_type": "markdown",
   "metadata": {
    "id": "-sHrODc3KFn8"
   },
   "source": [
    "Ітератор - інтерпретація ітерабельного об'єкта (об'єкт класа, що передбачає роздрібленість) , із однозв'язним доступом до елементів."
   ]
  },
  {
   "cell_type": "markdown",
   "metadata": {
    "id": "E9qJWmNbK8Gl"
   },
   "source": [
    "13. (11б). Створіть клас, що має визначений Iterator Protocol та при кожному виклику next повертає літери англійської абетки, поки вони не вичерпаються."
   ]
  },
  {
   "cell_type": "code",
   "execution_count": 46,
   "metadata": {
    "id": "cqx-g_RsLo6I"
   },
   "outputs": [
    {
     "name": "stdout",
     "output_type": "stream",
     "text": [
      "a b c d e f g h i j k l m n o p q r s t u v w x y z End\n"
     ]
    }
   ],
   "source": [
    "import string\n",
    "class MyAlph:\n",
    "    letters = list(string.ascii_lowercase)\n",
    "    def __iter__(self):\n",
    "        self.pos = 0\n",
    "        return self\n",
    "    def __next__(self):\n",
    "        if self.pos == len(self.letters):\n",
    "            raise StopIteration\n",
    "        cur = self.pos\n",
    "        self.pos += 1\n",
    "        return self.letters[cur]\n",
    "Newone = MyAlph()\n",
    "newiter= iter(Newone)\n",
    "while True:\n",
    "    try:\n",
    "        print(next(newiter), end=' ')\n",
    "    except StopIteration:\n",
    "        print('End')\n",
    "        break"
   ]
  },
  {
   "cell_type": "markdown",
   "metadata": {
    "id": "Z3E3S_s1Fv7-"
   },
   "source": [
    "# Вітаю! Ви велика(ий) молодець, що впоралась(вся). Похваліть себе та побалуйте чимось приємним. Я Вами пишаюся."
   ]
  }
 ],
 "metadata": {
  "colab": {
   "provenance": []
  },
  "kernelspec": {
   "display_name": "Python 3 (ipykernel)",
   "language": "python",
   "name": "python3"
  },
  "language_info": {
   "codemirror_mode": {
    "name": "ipython",
    "version": 3
   },
   "file_extension": ".py",
   "mimetype": "text/x-python",
   "name": "python",
   "nbconvert_exporter": "python",
   "pygments_lexer": "ipython3",
   "version": "3.11.2"
  }
 },
 "nbformat": 4,
 "nbformat_minor": 1
}
